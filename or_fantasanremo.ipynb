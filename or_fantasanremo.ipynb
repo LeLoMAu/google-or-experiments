{
  "nbformat": 4,
  "nbformat_minor": 0,
  "metadata": {
    "colab": {
      "name": "or_fantasanremo.ipynb",
      "provenance": [],
      "collapsed_sections": []
    },
    "kernelspec": {
      "name": "python3",
      "display_name": "Python 3"
    },
    "language_info": {
      "name": "python"
    }
  },
  "cells": [
    {
      "cell_type": "markdown",
      "source": [
        "# Fantasanremo"
      ],
      "metadata": {
        "id": "ewAUJg26pZqe"
      }
    },
    {
      "cell_type": "markdown",
      "source": [
        "Prima di eseguire il codice importare il file ***FS.xlsx***\n",
        "\n",
        "Pannello a sx -> File -> 'Carica in spazio di archiviazione della sessione'"
      ],
      "metadata": {
        "id": "xeKRwFmppe16"
      }
    },
    {
      "cell_type": "code",
      "execution_count": 101,
      "metadata": {
        "colab": {
          "base_uri": "https://localhost:8080/"
        },
        "id": "1p9qtlsePVY_",
        "outputId": "44de4b4a-ed88-44eb-f7c1-452fa8cc566d"
      },
      "outputs": [
        {
          "output_type": "stream",
          "name": "stdout",
          "text": [
            "Requirement already satisfied: ortools in /usr/local/lib/python3.7/dist-packages (9.2.9972)\n",
            "Requirement already satisfied: absl-py>=0.13 in /usr/local/lib/python3.7/dist-packages (from ortools) (1.0.0)\n",
            "Requirement already satisfied: numpy>=1.13.3 in /usr/local/lib/python3.7/dist-packages (from ortools) (1.19.5)\n",
            "Requirement already satisfied: protobuf>=3.19.1 in /usr/local/lib/python3.7/dist-packages (from ortools) (3.19.3)\n",
            "Requirement already satisfied: six in /usr/local/lib/python3.7/dist-packages (from absl-py>=0.13->ortools) (1.15.0)\n"
          ]
        }
      ],
      "source": [
        "!pip install ortools"
      ]
    },
    {
      "cell_type": "code",
      "source": [
        "# Import required libraries\n",
        "from ortools.linear_solver import pywraplp\n",
        "import pandas as pd"
      ],
      "metadata": {
        "id": "7CxqMzbHPcb8"
      },
      "execution_count": 102,
      "outputs": []
    },
    {
      "cell_type": "code",
      "source": [
        "# Read data\n",
        "data = pd.read_excel(r'/content/FS.xlsx')"
      ],
      "metadata": {
        "id": "ysGnCClHhr-C"
      },
      "execution_count": 103,
      "outputs": []
    },
    {
      "cell_type": "code",
      "source": [
        "# Clean data\n",
        "data = data[['Artista', 'Punteggi FS', 'Costi']]\n",
        "data = data.rename(columns={'Punteggi FS': 'Score'})\n",
        "data = data[data['Artista'].notnull()]\n",
        "data['Artista'] = data['Artista'].apply(lambda x: x.replace('\"', ''))\n",
        "\n",
        "data.head()"
      ],
      "metadata": {
        "colab": {
          "base_uri": "https://localhost:8080/",
          "height": 206
        },
        "id": "G1mvxAo2iCKh",
        "outputId": "56f29bde-52c4-4bd9-9721-e6a7df2c8bd7"
      },
      "execution_count": 104,
      "outputs": [
        {
          "output_type": "execute_result",
          "data": {
            "text/html": [
              "\n",
              "  <div id=\"df-24167fa3-e13d-4636-8721-71e9bb2b46bc\">\n",
              "    <div class=\"colab-df-container\">\n",
              "      <div>\n",
              "<style scoped>\n",
              "    .dataframe tbody tr th:only-of-type {\n",
              "        vertical-align: middle;\n",
              "    }\n",
              "\n",
              "    .dataframe tbody tr th {\n",
              "        vertical-align: top;\n",
              "    }\n",
              "\n",
              "    .dataframe thead th {\n",
              "        text-align: right;\n",
              "    }\n",
              "</style>\n",
              "<table border=\"1\" class=\"dataframe\">\n",
              "  <thead>\n",
              "    <tr style=\"text-align: right;\">\n",
              "      <th></th>\n",
              "      <th>Artista</th>\n",
              "      <th>Score</th>\n",
              "      <th>Costi</th>\n",
              "    </tr>\n",
              "  </thead>\n",
              "  <tbody>\n",
              "    <tr>\n",
              "      <th>1</th>\n",
              "      <td>Achille Lauro - Domenica</td>\n",
              "      <td>51.5</td>\n",
              "      <td>32.0</td>\n",
              "    </tr>\n",
              "    <tr>\n",
              "      <th>2</th>\n",
              "      <td>Aka 7even - Perfetta così</td>\n",
              "      <td>3.5</td>\n",
              "      <td>23.0</td>\n",
              "    </tr>\n",
              "    <tr>\n",
              "      <th>3</th>\n",
              "      <td>Ana Mena - Duecentomila ore</td>\n",
              "      <td>10.5</td>\n",
              "      <td>17.0</td>\n",
              "    </tr>\n",
              "    <tr>\n",
              "      <th>4</th>\n",
              "      <td>Dargen D'Amico - Dove si balla</td>\n",
              "      <td>12.0</td>\n",
              "      <td>15.0</td>\n",
              "    </tr>\n",
              "    <tr>\n",
              "      <th>5</th>\n",
              "      <td>Ditonellapiaga con Rettore - Chimica</td>\n",
              "      <td>-2.5</td>\n",
              "      <td>15.0</td>\n",
              "    </tr>\n",
              "  </tbody>\n",
              "</table>\n",
              "</div>\n",
              "      <button class=\"colab-df-convert\" onclick=\"convertToInteractive('df-24167fa3-e13d-4636-8721-71e9bb2b46bc')\"\n",
              "              title=\"Convert this dataframe to an interactive table.\"\n",
              "              style=\"display:none;\">\n",
              "        \n",
              "  <svg xmlns=\"http://www.w3.org/2000/svg\" height=\"24px\"viewBox=\"0 0 24 24\"\n",
              "       width=\"24px\">\n",
              "    <path d=\"M0 0h24v24H0V0z\" fill=\"none\"/>\n",
              "    <path d=\"M18.56 5.44l.94 2.06.94-2.06 2.06-.94-2.06-.94-.94-2.06-.94 2.06-2.06.94zm-11 1L8.5 8.5l.94-2.06 2.06-.94-2.06-.94L8.5 2.5l-.94 2.06-2.06.94zm10 10l.94 2.06.94-2.06 2.06-.94-2.06-.94-.94-2.06-.94 2.06-2.06.94z\"/><path d=\"M17.41 7.96l-1.37-1.37c-.4-.4-.92-.59-1.43-.59-.52 0-1.04.2-1.43.59L10.3 9.45l-7.72 7.72c-.78.78-.78 2.05 0 2.83L4 21.41c.39.39.9.59 1.41.59.51 0 1.02-.2 1.41-.59l7.78-7.78 2.81-2.81c.8-.78.8-2.07 0-2.86zM5.41 20L4 18.59l7.72-7.72 1.47 1.35L5.41 20z\"/>\n",
              "  </svg>\n",
              "      </button>\n",
              "      \n",
              "  <style>\n",
              "    .colab-df-container {\n",
              "      display:flex;\n",
              "      flex-wrap:wrap;\n",
              "      gap: 12px;\n",
              "    }\n",
              "\n",
              "    .colab-df-convert {\n",
              "      background-color: #E8F0FE;\n",
              "      border: none;\n",
              "      border-radius: 50%;\n",
              "      cursor: pointer;\n",
              "      display: none;\n",
              "      fill: #1967D2;\n",
              "      height: 32px;\n",
              "      padding: 0 0 0 0;\n",
              "      width: 32px;\n",
              "    }\n",
              "\n",
              "    .colab-df-convert:hover {\n",
              "      background-color: #E2EBFA;\n",
              "      box-shadow: 0px 1px 2px rgba(60, 64, 67, 0.3), 0px 1px 3px 1px rgba(60, 64, 67, 0.15);\n",
              "      fill: #174EA6;\n",
              "    }\n",
              "\n",
              "    [theme=dark] .colab-df-convert {\n",
              "      background-color: #3B4455;\n",
              "      fill: #D2E3FC;\n",
              "    }\n",
              "\n",
              "    [theme=dark] .colab-df-convert:hover {\n",
              "      background-color: #434B5C;\n",
              "      box-shadow: 0px 1px 3px 1px rgba(0, 0, 0, 0.15);\n",
              "      filter: drop-shadow(0px 1px 2px rgba(0, 0, 0, 0.3));\n",
              "      fill: #FFFFFF;\n",
              "    }\n",
              "  </style>\n",
              "\n",
              "      <script>\n",
              "        const buttonEl =\n",
              "          document.querySelector('#df-24167fa3-e13d-4636-8721-71e9bb2b46bc button.colab-df-convert');\n",
              "        buttonEl.style.display =\n",
              "          google.colab.kernel.accessAllowed ? 'block' : 'none';\n",
              "\n",
              "        async function convertToInteractive(key) {\n",
              "          const element = document.querySelector('#df-24167fa3-e13d-4636-8721-71e9bb2b46bc');\n",
              "          const dataTable =\n",
              "            await google.colab.kernel.invokeFunction('convertToInteractive',\n",
              "                                                     [key], {});\n",
              "          if (!dataTable) return;\n",
              "\n",
              "          const docLinkHtml = 'Like what you see? Visit the ' +\n",
              "            '<a target=\"_blank\" href=https://colab.research.google.com/notebooks/data_table.ipynb>data table notebook</a>'\n",
              "            + ' to learn more about interactive tables.';\n",
              "          element.innerHTML = '';\n",
              "          dataTable['output_type'] = 'display_data';\n",
              "          await google.colab.output.renderOutput(dataTable, element);\n",
              "          const docLink = document.createElement('div');\n",
              "          docLink.innerHTML = docLinkHtml;\n",
              "          element.appendChild(docLink);\n",
              "        }\n",
              "      </script>\n",
              "    </div>\n",
              "  </div>\n",
              "  "
            ],
            "text/plain": [
              "                                Artista  Score  Costi\n",
              "1              Achille Lauro - Domenica   51.5   32.0\n",
              "2             Aka 7even - Perfetta così    3.5   23.0\n",
              "3           Ana Mena - Duecentomila ore   10.5   17.0\n",
              "4        Dargen D'Amico - Dove si balla   12.0   15.0\n",
              "5  Ditonellapiaga con Rettore - Chimica   -2.5   15.0"
            ]
          },
          "metadata": {},
          "execution_count": 104
        }
      ]
    },
    {
      "cell_type": "code",
      "source": [
        "# Create the MIP Solver with the SCIP backend\n",
        "# Other options might be: CLP, CBC, GLOP, BOP, CP_SAT etc \n",
        "# (full ref here: https://google.github.io/or-tools/python/ortools/linear_solver/pywraplp.html#Solver.CreateSolver)\n",
        "solver = pywraplp.Solver.CreateSolver('SCIP')"
      ],
      "metadata": {
        "id": "WXnmgMLEfxoZ"
      },
      "execution_count": 105,
      "outputs": []
    },
    {
      "cell_type": "code",
      "source": [
        "# Define decision variables\n",
        "for row in data.itertuples():\n",
        "  exec(f'c{row.Index} = solver.IntVar(0.0, 1, \"{row.Artista}\")')\n",
        "\n",
        "print('Number of variables =', solver.NumVariables())"
      ],
      "metadata": {
        "colab": {
          "base_uri": "https://localhost:8080/"
        },
        "id": "a2Eg7VE4PmT2",
        "outputId": "a5ee7d90-f73d-4a6a-bb01-229d7382380d"
      },
      "execution_count": 106,
      "outputs": [
        {
          "output_type": "stream",
          "name": "stdout",
          "text": [
            "Number of variables = 25\n"
          ]
        }
      ]
    },
    {
      "cell_type": "code",
      "source": [
        "# Budget Constraint\n",
        "# a*c1 + b*c2 + ... + n*cn <= 100\n",
        "budget = solver.Constraint(-solver.infinity(), 100)\n",
        "\n",
        "for row in data.itertuples():\n",
        "  exec(f'budget.SetCoefficient(c{row.Index}, {row.Costi})')"
      ],
      "metadata": {
        "id": "sxiklgY-Px59"
      },
      "execution_count": 107,
      "outputs": []
    },
    {
      "cell_type": "code",
      "source": [
        "# Team members Constraint\n",
        "# c1 + c2 + c3 + c4 + c5 == 5\n",
        "team = solver.Constraint(5, 5)\n",
        "\n",
        "for row in data.itertuples():\n",
        "  exec(f'team.SetCoefficient(c{row.Index}, 1)')"
      ],
      "metadata": {
        "id": "rvOQMd4nQRjL"
      },
      "execution_count": 108,
      "outputs": []
    },
    {
      "cell_type": "code",
      "source": [
        "# Objective function\n",
        "objective = solver.Objective()\n",
        "\n",
        "for row in data.itertuples():\n",
        "  exec(f'objective.SetCoefficient(c{row.Index}, {row.Score})')\n",
        "\n",
        "objective.SetMaximization()"
      ],
      "metadata": {
        "id": "scVYGbjRe6VL"
      },
      "execution_count": 109,
      "outputs": []
    },
    {
      "cell_type": "code",
      "source": [
        "# Solve\n",
        "status = solver.Solve()"
      ],
      "metadata": {
        "id": "OTQZN1xAfIo5"
      },
      "execution_count": 110,
      "outputs": []
    },
    {
      "cell_type": "code",
      "source": [
        "if status == pywraplp.Solver.OPTIMAL:\n",
        "  print('Solution:')\n",
        "  print('Objective value =', solver.Objective().Value())\n",
        "  for var in solver.variables():\n",
        "    if var.solution_value() == 1:\n",
        "      print(f'Team member: {var.name()}')\n",
        "else: \n",
        "  print('The problem does not have an optimal solution.')"
      ],
      "metadata": {
        "colab": {
          "base_uri": "https://localhost:8080/"
        },
        "id": "LOW88jBMfOYG",
        "outputId": "14269e61-ce2f-4eb0-8bca-726e35e388e3"
      },
      "execution_count": 111,
      "outputs": [
        {
          "output_type": "stream",
          "name": "stdout",
          "text": [
            "Solution:\n",
            "Objective value = 192.5\n",
            "Team member: Elisa - O forse sei tu\n",
            "Team member: Iva Zanicchi - Voglio amarti\n",
            "Team member: La Rappresentante di Lista - Ciao ciao\n",
            "Team member: Le Vibrazioni - Tantissimo\n",
            "Team member: Rkomi - Insuperabile\n"
          ]
        }
      ]
    }
  ]
}